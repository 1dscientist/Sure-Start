{
  "nbformat": 4,
  "nbformat_minor": 0,
  "metadata": {
    "colab": {
      "name": "Machine Learning Day 3",
      "provenance": []
    },
    "kernelspec": {
      "name": "python3",
      "display_name": "Python 3"
    },
    "language_info": {
      "name": "python"
    }
  },
  "cells": [
    {
      "cell_type": "code",
      "metadata": {
        "id": "QqOfrIyw7L7q"
      },
      "source": [
        "from sklearn.datasets import load_iris\n",
        "from sklearn import tree\n",
        "\n",
        "# Load in our dataset\n",
        "iris_data = load_iris()\n",
        "\n",
        "# Initialize our decision tree object\n",
        "classification_tree = tree.DecisionTreeClassifier()\n",
        "\n",
        "# Train our decision tree (tree induction + pruning)\n",
        "classification_tree = classification_tree.fit(iris_data.data, iris_data.target)"
      ],
      "execution_count": 1,
      "outputs": []
    },
    {
      "cell_type": "code",
      "metadata": {
        "colab": {
          "base_uri": "https://localhost:8080/",
          "height": 35
        },
        "id": "AZiVF9uF9com",
        "outputId": "340a0b41-e0f1-46b2-89fa-1362ef54bc8a"
      },
      "source": [
        "import graphviz \n",
        "dot_data = tree.export_graphviz(classification_tree, out_file=None, \n",
        "                     feature_names=iris_data.feature_names,  \n",
        "                     class_names=iris_data.target_names,  \n",
        "                     filled=True, rounded=True,  \n",
        "                     special_characters=True)  \n",
        "graph = graphviz.Source(dot_data)  \n",
        "graph.render(\"iris\") "
      ],
      "execution_count": 4,
      "outputs": [
        {
          "output_type": "execute_result",
          "data": {
            "application/vnd.google.colaboratory.intrinsic+json": {
              "type": "string"
            },
            "text/plain": [
              "'iris.pdf'"
            ]
          },
          "metadata": {
            "tags": []
          },
          "execution_count": 4
        }
      ]
    }
  ]
}